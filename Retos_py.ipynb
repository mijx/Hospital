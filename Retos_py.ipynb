{
  "nbformat": 4,
  "nbformat_minor": 0,
  "metadata": {
    "colab": {
      "provenance": [],
      "authorship_tag": "ABX9TyNvaAgm/0CjmwG81kyMB1B/",
      "include_colab_link": true
    },
    "kernelspec": {
      "name": "python3",
      "display_name": "Python 3"
    },
    "language_info": {
      "name": "python"
    }
  },
  "cells": [
    {
      "cell_type": "markdown",
      "metadata": {
        "id": "view-in-github",
        "colab_type": "text"
      },
      "source": [
        "<a href=\"https://colab.research.google.com/github/mijx/Hospital/blob/main/Retos_py.ipynb\" target=\"_parent\"><img src=\"https://colab.research.google.com/assets/colab-badge.svg\" alt=\"Open In Colab\"/></a>"
      ]
    },
    {
      "cell_type": "markdown",
      "source": [
        "# Título\n",
        "No sé qué es esto :) Mas una cosita"
      ],
      "metadata": {
        "id": "CoHS3WkM84hH"
      }
    },
    {
      "cell_type": "code",
      "source": [
        "import time\n",
        "\n",
        "chars = 'ABCDEF'\n",
        "loop = range(1, len(chars) + 1)\n",
        "reversed=chars[::-1]\n",
        "print(reversed)\n",
        "LINE_UP = '\\033[1A'\n",
        "LINE_CLEAR = '\\x1b[2K'\n",
        "\n",
        "\n",
        "for idx,c in enumerate(reversed):\n",
        "    print(chars[:idx])\n",
        "    time.sleep(.5)\n",
        "    print(LINE_UP, end=LINE_CLEAR)\n"
      ],
      "metadata": {
        "colab": {
          "base_uri": "https://localhost:8080/"
        },
        "id": "EOzB4IpCSnO0",
        "outputId": "1ad63d9f-85ce-427d-b9c0-d776342285df"
      },
      "execution_count": null,
      "outputs": [
        {
          "output_type": "stream",
          "name": "stdout",
          "text": [
            "FEDCBA\n",
            "A\n",
            "\u001b[1A\u001b[2KAB\n",
            "\u001b[1A\u001b[2KABC\n",
            "\u001b[1A\u001b[2KABCD\n",
            "\u001b[1A\u001b[2KABCDE\n",
            "\u001b[1A\u001b[2KABCDEF\n",
            "\u001b[1A\u001b[2K"
          ]
        }
      ]
    },
    {
      "cell_type": "code",
      "source": [
        "import sys\n",
        "b = sys.stdin.readline()#.strip('\\n')\n",
        "print(list(b))"
      ],
      "metadata": {
        "colab": {
          "base_uri": "https://localhost:8080/"
        },
        "id": "-iefHOKSZ6Od",
        "outputId": "bf620fb1-6f19-4590-8a50-e2e24b56a00f"
      },
      "execution_count": null,
      "outputs": [
        {
          "output_type": "stream",
          "name": "stdout",
          "text": [
            "[]\n"
          ]
        }
      ]
    },
    {
      "cell_type": "markdown",
      "source": [],
      "metadata": {
        "id": "3o3xj5-L95TO"
      }
    },
    {
      "cell_type": "markdown",
      "source": [
        "## RETO: Primeros 15 cifras de la Serie de Fibonacci"
      ],
      "metadata": {
        "id": "pFBQ4ZiYYWOo"
      }
    },
    {
      "cell_type": "code",
      "source": [
        "print(\"Los primeros 15 números de la serie de Fibonacci son: \")\n",
        "lista=[0,1]\n",
        "\n",
        "while len(lista)<15:\n",
        "  lista.append(lista[-1]+lista[-2])#Número Actual=lista[-1] y Número Anterior=lista[-2]\n",
        "\n",
        "print(\"Método 1(lista):\")\n",
        "for numero in lista:\n",
        "  print(numero,end=' ')\n",
        "print(\"\\n\")\n",
        "print(\"Método 2:\")\n",
        "anterior=0\n",
        "actual=1\n",
        "print(anterior,actual,end=\" \")\n",
        "for _ in range(13):\n",
        "  tmp=actual\n",
        "  actual+=anterior\n",
        "  anterior=tmp\n",
        "  print(actual,end=\" \")"
      ],
      "metadata": {
        "colab": {
          "base_uri": "https://localhost:8080/"
        },
        "id": "KbVbxa75XWv3",
        "outputId": "6b561973-1af3-4267-d1a2-c844934b1886"
      },
      "execution_count": null,
      "outputs": [
        {
          "output_type": "stream",
          "name": "stdout",
          "text": [
            "Los primeros 15 números de la serie de Fibonacci son: \n",
            "Método 1(lista):\n",
            "0 1 1 2 3 5 8 13 21 34 55 89 144 233 377 \n",
            "\n",
            "Método 2:\n",
            "0 1 1 2 3 5 8 13 21 34 55 89 144 233 377 "
          ]
        }
      ]
    },
    {
      "cell_type": "code",
      "source": [
        "print(\"La suma de los números negativos y la suma de los números positivos dentro de una lista\")\n",
        "lista=[1,2,3,-1,-2,-3,0]\n",
        "sumanegativos,sumapositivos=0,0\n",
        "for i in lista:\n",
        "  if i>=0:\n",
        "    sumapositivos+=i\n",
        "  else:\n",
        "    sumanegativos+=i\n",
        "print(\"Suma de los número negativos=\",sumanegativos,\"     \",\"Suma de los números positivos=\",sumapositivos)"
      ],
      "metadata": {
        "colab": {
          "base_uri": "https://localhost:8080/"
        },
        "id": "edndlOrszpdi",
        "outputId": "c79567b7-4a33-4a10-a47e-0e5b958971cb"
      },
      "execution_count": null,
      "outputs": [
        {
          "output_type": "stream",
          "name": "stdout",
          "text": [
            "La suma de los números negativos y la suma de los números positivos dentro de una lista\n",
            "Suma de los número negativos= -6       Suma de los números positivos= 6\n"
          ]
        }
      ]
    },
    {
      "cell_type": "code",
      "source": [
        "'''Solicitar un texto al usuario, luego solicitar una letra. Recorrer el texto buscando la letra.\n",
        "Si la encuentra print la cantidad de veces que existe,\n",
        "de lo contrario imprimir No Existe'''\n",
        "\n",
        "print(\"Contador de letra dentro de un texto\\n\")\n",
        "\n",
        "texto,letra=input(\"Ingrese un texto: \"),input(\"Ingrese una letra: \")\n",
        "contador=0\n",
        "for caracter in texto:\n",
        "  if caracter==letra:\n",
        "    contador+=1\n",
        "if contador==0:\n",
        "  print(letra,\"no existe en el texto.\")\n",
        "elif contador==1:\n",
        "  print(letra,\"se repite 1 vez en el texto.\")\n",
        "else:\n",
        "  print(letra,\"se repite\",contador,\"veces en el texto.\")\n"
      ],
      "metadata": {
        "colab": {
          "base_uri": "https://localhost:8080/"
        },
        "id": "sMNEmQ92-tIE",
        "outputId": "23cbf4f2-8cd1-4c45-af4e-dd75db4cdbb8"
      },
      "execution_count": null,
      "outputs": [
        {
          "output_type": "stream",
          "name": "stdout",
          "text": [
            "Contador de letra dentro de un texto\n",
            "\n",
            "Ingrese un texto: 123\n",
            "Ingrese una letra: 12\n",
            "12 no existe en el texto.\n"
          ]
        }
      ]
    },
    {
      "cell_type": "code",
      "source": [
        "'''Sobre un número entero, evaluar e imprimir:\n",
        "si es negativo o positivo\n",
        "si es par o impar\n",
        "la longitud del mismo'''\n",
        "\n",
        "\n",
        "numero=input(\"Ingrese un número entero: \")\n",
        "if int(numero)<0:\n",
        "  print(\"Es negativo,\",end=\" \")\n",
        "else:\n",
        "  print(\"Es positivo,\",end=\" \")\n",
        "\n",
        "if int(numero)%2==0:\n",
        "  print(\"es par,\",end=\" \")\n",
        "else:\n",
        "  print(\"es impar\",end=\" \")\n",
        "\n",
        "if numero[0]==\"-\":\n",
        "  print(\"y su longitud es\",len(numero)-1)\n",
        "else:\n",
        "  print(\"y su longitud es\",len(numero))"
      ],
      "metadata": {
        "colab": {
          "base_uri": "https://localhost:8080/"
        },
        "id": "VIiteWAL_MjD",
        "outputId": "1ccab6c4-d0c1-41cf-e0b2-e7f348a4bc28"
      },
      "execution_count": null,
      "outputs": [
        {
          "output_type": "stream",
          "name": "stdout",
          "text": [
            "Ingrese un número entero: -0\n",
            "Es positivo, es par, y su longitud es 1\n"
          ]
        }
      ]
    },
    {
      "cell_type": "code",
      "source": [
        "'''Pedir por separado el nombre y apellido\n",
        "nombre=input(Dígame su nombre: )\n",
        "apellido=input(Señor/a _nombre_ dígame su apellido)\n",
        "bienvenido/a nombre apellido'''\n",
        "\n",
        "nombre=input(\"Dígame su nombre: \")\n",
        "apellido=input(f\"Señor/a {nombre}, dígame su apellido: \")#f es un formato, indica que hay una variable en el texto\n",
        "print(f\"Bienvenido/a {nombre} {apellido}\")"
      ],
      "metadata": {
        "colab": {
          "base_uri": "https://localhost:8080/"
        },
        "id": "sXimGBHXJSyo",
        "outputId": "86808bae-c649-4d8c-c0f3-131aaaa04d16"
      },
      "execution_count": null,
      "outputs": [
        {
          "output_type": "stream",
          "name": "stdout",
          "text": [
            "Dígame su nombre: Hola\n",
            "Señor/a Hola, dígame su apellido: Hola2\n",
            "Bienvenido/a Hola Hola2\n"
          ]
        }
      ]
    },
    {
      "cell_type": "code",
      "source": [
        "'''\n",
        "Solicitar al usuario su nombre. Luego guardar en la cadena \"Buenas noches Señor/a: ¿Cómo se encuentra hoy?\"\n",
        "el nombre luego de Señor/a:\n",
        "'''\n",
        "\n",
        "nombre=input(\"Digite su nombre: \")\n",
        "nombre=\" \"+nombre\n",
        "cadena=\"Buenas noches Señor/a: ¿Cómo se encuentra hoy?\"\n",
        "'''\n",
        "cadena=cadena[:cadena.index(\":\")+1]+\" \"+nombre+cadena[cadena.index(\":\")+1:]\n",
        "print(cadena)\n",
        "'''\n",
        "\n",
        "cadena=cadena[:cadena.find(\"cómo\")]+\" \"+nombre+cadena[cadena.index(\":\")+1:]\n",
        "print(cadena)\n",
        "print(cadena.find(\"como\"))\n",
        "\n",
        "'''\n",
        "cadena=list(cadena)\n",
        "for i,caracter in enumerate(nombre):\n",
        "  cadena.insert(cadena.index(\":\")+i+1,caracter)\n",
        "cadena=''.join(cadena)\n",
        "print(type(cadena),cadena)\n",
        "'''"
      ],
      "metadata": {
        "colab": {
          "base_uri": "https://localhost:8080/",
          "height": 105
        },
        "id": "YwwHnIgOFMTP",
        "outputId": "87996acb-9781-415a-b7dc-a39d0704a80a"
      },
      "execution_count": null,
      "outputs": [
        {
          "output_type": "stream",
          "name": "stdout",
          "text": [
            "Digite su nombre: Hola\n",
            "Buenas noches Señor/a: ¿Cómo se encuentra hoy  Hola ¿Cómo se encuentra hoy?\n",
            "-1\n"
          ]
        },
        {
          "output_type": "execute_result",
          "data": {
            "text/plain": [
              "'\\ncadena=list(cadena)\\nfor i,caracter in enumerate(nombre):\\n  cadena.insert(cadena.index(\":\")+i+1,caracter)\\ncadena=\\'\\'.join(cadena)\\nprint(type(cadena),cadena)\\n'"
            ],
            "application/vnd.google.colaboratory.intrinsic+json": {
              "type": "string"
            }
          },
          "metadata": {},
          "execution_count": 39
        }
      ]
    },
    {
      "cell_type": "code",
      "source": [
        "'''\n",
        "Solicitar números enteros al usuario, hasta que el usuario pulse ENTER.\n",
        "Imprimir de los números ingresados\n",
        "'''\n",
        "\n",
        "print(\"Digite números enteros. Cuando no se quiera ingresar más número presionar ENTER\\n\")\n",
        "\n",
        "menor,mayor,vez=None,None,True\n",
        "\n",
        "while True:\n",
        "  a=input(\"Digite un número: \")\n",
        "  if vez:\n",
        "    if not a:\n",
        "      print(\"Finalizado\")\n",
        "      break\n",
        "    else:\n",
        "      menor,mayor=int(a),int(a)\n",
        "      vez=False\n",
        "  else:\n",
        "    if not a:\n",
        "      print(\"Número menor=\",menor,\" \"*5,\"Número mayor=\",mayor)\n",
        "      break\n",
        "    else:\n",
        "      try:\n",
        "        a=int(a)\n",
        "        if a>mayor:\n",
        "          mayor=a\n",
        "        elif a<menor:\n",
        "          menor=a\n",
        "      except:\n",
        "        print(\"Entrada no válida. Vuelva a digitar el número.\\n\")"
      ],
      "metadata": {
        "colab": {
          "base_uri": "https://localhost:8080/"
        },
        "id": "9xOQfqqiLS1a",
        "outputId": "fea5d416-e101-4bb7-9d7e-786eadcb6b8e"
      },
      "execution_count": null,
      "outputs": [
        {
          "output_type": "stream",
          "name": "stdout",
          "text": [
            "Digite números enteros. Cuando no se quiera ingresar más número presionar ENTER\n",
            "\n",
            "Digite un número: 1\n",
            "Digite un número: \n",
            "Número menor= 1       Número mayor= 1\n"
          ]
        }
      ]
    },
    {
      "cell_type": "code",
      "source": [
        "'''\n",
        "Imprimir las siguientes secuencias:\n",
        "3 6 9 12 15 18 21 24 27 30 33 36 39 42 45 48\n",
        "60 56 52 48 44 40 36 32 28 24 20 16 12 8 4\n",
        "'''\n",
        "for i in range(3,49,3):\n",
        "  if i!=48:\n",
        "    print(i,end=\" \")\n",
        "  else:\n",
        "    print(i)\n",
        "for i in range(60,3,-4):\n",
        "  print(i,end=\" \")\n"
      ],
      "metadata": {
        "colab": {
          "base_uri": "https://localhost:8080/"
        },
        "id": "q1swkNvPXUbU",
        "outputId": "89ccee3a-e4bc-409f-e0bc-7718d207569e"
      },
      "execution_count": null,
      "outputs": [
        {
          "output_type": "stream",
          "name": "stdout",
          "text": [
            "3 6 9 12 15 18 21 24 27 30 33 36 39 42 45 48\n",
            "60 56 52 48 44 40 36 32 28 24 20 16 12 8 4 "
          ]
        }
      ]
    },
    {
      "cell_type": "code",
      "source": [
        "'''\n",
        "Solicitar un país y su capitarl. Terminar de solicitar con ENTER\n",
        "Print cada país ingresado junto a su capital ingresada\n",
        "'''\n",
        "\n",
        "vez=True\n",
        "while True:\n",
        "  pais=input(\"Ingrese un país: \")\n",
        "\n",
        "  if vez:\n",
        "    if not pais:\n",
        "      print(\"Finalizado.\")\n",
        "      break\n",
        "    else:\n",
        "      paisycap=(pais,)\n",
        "      vez=False\n",
        "  else:\n",
        "    if pais:\n",
        "      paisycap+=pais,\n",
        "    else:\n",
        "      print(\"\\nLos países y capitales ingresadas son:\\n\")\n",
        "      for i in range(0,len(paisycap),2):\n",
        "        print(paisycap[i],\", capital:\",paisycap[i+1])\n",
        "      break\n",
        "\n",
        "  capital=input(\"Ingrese su capital: \")\n",
        "  if capital:\n",
        "    paisycap+=capital,\n",
        "  else:\n",
        "    paisycap+=\"no fue ingresada\",\n",
        "    print(\"\\nLos países y capitales ingresadas son:\\n\")\n",
        "    for i in range(0,len(paisycap),2):\n",
        "        print(paisycap[i],\", capital:\",paisycap[i+1])\n",
        "    break\n",
        "\n",
        "print('\\t=> su capital es')#t es tabulador, su longitud depende de la longitud de la palabra.\n",
        "for p in datos:\n",
        "  print(f'{p:10}','su capital',datos.get(p))#Que el país se imprima en 10 caracteres. format también para números decimales.\n",
        "\n",
        "for p,c in datos.items():#si fuera in datos, solo traería p\n",
        ""
      ],
      "metadata": {
        "colab": {
          "base_uri": "https://localhost:8080/"
        },
        "id": "HKEZOXMbbVYa",
        "outputId": "c731874a-339d-4740-daef-230c62c2f8cb"
      },
      "execution_count": null,
      "outputs": [
        {
          "output_type": "stream",
          "name": "stdout",
          "text": [
            "Ingrese un país: Colombia\n",
            "Ingrese su capital: Bogotá\n",
            "Ingrese un país: Canada\n",
            "Ingrese su capital: Toronto\n",
            "Ingrese un país: España\n",
            "Ingrese su capital: \n",
            "\n",
            "Los países y capitales ingresadas son:\n",
            "\n",
            "Colombia , capital: Bogotá\n",
            "Canada , capital: Toronto\n",
            "España , capital: no fue ingresada\n"
          ]
        }
      ]
    },
    {
      "cell_type": "code",
      "source": [
        "'''\n",
        "Crear una tupla con los meses del año y solicitarle al usuario un número de mes\n",
        "para imprimir el nombre del mes por pantalla.\n",
        "'''\n",
        "meses=('Enero','Febrero','Marzo','Abril','Mayo','Junio','Julio','Agosto','Septiembre','Octubre','Noviembre','Diciembre')\n",
        "while True:\n",
        "  ubicacion=int(input(\"\\nDigite el número del mes: \"))\n",
        "  if ubicacion<1 or ubicacion>12:\n",
        "    print(\"ERROR Número de mes no válido\")\n",
        "  else:\n",
        "    print(f'El mes número {ubicacion} es {meses[ubicacion-1]}')\n",
        "    seguir=input(\"\\n¿Continuar? SI/NO: \")\n",
        "    if seguir!=\"SI\":\n",
        "      print(\"Programa finalizado\")\n",
        "      break"
      ],
      "metadata": {
        "colab": {
          "base_uri": "https://localhost:8080/"
        },
        "id": "lh0tvbOaB5Yi",
        "outputId": "3f060f88-b7cc-4e95-d85d-0f0a095e1619"
      },
      "execution_count": null,
      "outputs": [
        {
          "output_type": "stream",
          "name": "stdout",
          "text": [
            "\n",
            "Digite el número del mes: 8\n",
            "El mes número 8 es Agosto\n",
            "\n",
            "¿Continuar? SI/NO: SI\n",
            "\n",
            "Digite el número del mes: 89\n",
            "ERROR Número de mes no válido\n",
            "\n",
            "Digite el número del mes: 89\n",
            "ERROR Número de mes no válido\n",
            "\n",
            "Digite el número del mes: -1\n",
            "ERROR Número de mes no válido\n",
            "\n",
            "Digite el número del mes: 0\n",
            "ERROR Número de mes no válido\n",
            "\n",
            "Digite el número del mes: 6\n",
            "El mes número 6 es Junio\n",
            "\n",
            "¿Continuar? SI/NO: no\n",
            "Programa finalizado\n"
          ]
        }
      ]
    },
    {
      "cell_type": "code",
      "source": [
        "'''\n",
        "Solicitar un listado de números por pantalla que pueden separarse\n",
        "mediante espacios o cualquier otro caracter en una línea.\n",
        "Agregar a una lista los números, sin repetir\n",
        "'''\n",
        "entrada=input('Ingrese una lista de números(separados por espacios): ')\n",
        "#entrada='100 400 50 100 700 700'#ejemplo:\n",
        "lista=[]\n",
        "comienzo=0\n",
        "if entrada[0]!='':\n",
        "  for i,caracter in enumerate(entrada):\n",
        "    if caracter==' ':\n",
        "      if entrada[comienzo:i] not in lista:\n",
        "        lista.append(entrada[comienzo:i])\n",
        "        print(entrada[comienzo:i],end=' ')\n",
        "        comienzo=i+1\n",
        "      else:\n",
        "        comienzo=i+1\n",
        "    if i==len(entrada)-1 and entrada[comienzo:] not in lista:\n",
        "      lista.append(entrada[comienzo:])\n",
        "      print(entrada[comienzo:])\n",
        "  print(\"\\n\")\n",
        "  print(lista,'es la lista almacenada')\n",
        "else:\n",
        "  print('La entrada es vacía\\n')\n",
        "\n"
      ],
      "metadata": {
        "colab": {
          "base_uri": "https://localhost:8080/"
        },
        "id": "zcHfLIVsIKdZ",
        "outputId": "07f96340-f4cf-466d-d788-5a8136d3defe"
      },
      "execution_count": null,
      "outputs": [
        {
          "output_type": "stream",
          "name": "stdout",
          "text": [
            "Ingrese una lista de números(separados por espacios): k\n",
            "k\n",
            "\n",
            "\n",
            "['k'] es la lista almacenada\n"
          ]
        }
      ]
    },
    {
      "cell_type": "code",
      "source": [
        "'''\n",
        "crear una estructura única con los siguientes datos e imprimirla\n",
        "'''\n",
        "#Formato pprint, yaml,json para este"
      ],
      "metadata": {
        "id": "-9tXi7jlMFLu"
      },
      "execution_count": null,
      "outputs": []
    },
    {
      "cell_type": "code",
      "source": [
        "[0,*,2,*,4]\n",
        "[*,1,2,3,*]\n",
        "[0,1,C,3,4]\n",
        "[*,1,2,3,*]\n",
        "[0,*,2,*,4]\n",
        "\n",
        "#horizontal 1ro\n",
        "[[0,1,2,3,4],\n",
        " [*,1,2,3,*],\n",
        " [0,1,C,3,4],\n",
        " [*,1,2,3,*],\n",
        " [0,1,2,3,4]]\n",
        "'''\n",
        "            C+1\n",
        "C+2derecha:\n",
        "            C-1\n",
        "\n",
        "            C+1\n",
        "C-2derecha:\n",
        "            C-1\n",
        "'''\n",
        "#vertical 1ro\n",
        "[[0,*,2,*,4],\n",
        " [0,1,2,3,4],\n",
        " [0,1,C,3,4],\n",
        " [0,1,2,3,4],\n",
        " [0,*,2,*,4]]\n",
        "\n",
        "    C+1 derecha\n",
        "C+2:\n",
        "    C-1 izquierda\n",
        "\n",
        "    C+1 derecha\n",
        "C-2:\n",
        "    C-1 izquierda"
      ],
      "metadata": {
        "id": "kjSa-apgIDce"
      },
      "execution_count": null,
      "outputs": []
    }
  ]
}